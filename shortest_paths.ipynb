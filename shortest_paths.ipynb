{
 "cells": [
  {
   "cell_type": "markdown",
   "metadata": {
    "ein.tags": "worksheet-0",
    "slideshow": {
     "slide_type": "-"
    }
   },
   "source": [
    "# Introduction to graphs and shortest paths problems\n",
    "\n",
    "For this lab session, we will be using a widespread Python library for graphs called [`networkx`](https://networkx.github.io/).\n",
    "Should you face any issue during this session, your main reference will be [this one](https://networkx.github.io/documentation/stable/).\n",
    "\n",
    "The purpose of this session is not to evaluate you. All short exercices are provided with their solutions. However, next session will be graded so you are highly encouraged to try to solve the small problems by yourself before looking for answers.\n",
    "\n",
    "Each time you encounter this kind of cell:\n",
    "```python\n",
    "# %load solution.py\n",
    "```\n",
    "you may uncomment the line and execute the cell to load the solution. Execute the cell again to run the solution.\n",
    "\n",
    "Be careful if you write anything in the cell containing the `%load` command: your code will be deleted when you try to reveal the solution. Use a different cell for your attempts.\n",
    "\n",
    "## Introduction to networkx\n",
    "\n",
    "<div class=\"alert alert-warning\">\n",
    "    <b>Exercice:</b> Import the <code>networkx</code> library. Use the common <code>nx</code> abbreviation.\n",
    "</div>"
   ]
  },
  {
   "cell_type": "code",
   "execution_count": null,
   "metadata": {
    "autoscroll": false,
    "collapsed": false,
    "ein.hycell": false,
    "ein.tags": "worksheet-0",
    "slideshow": {
     "slide_type": "-"
    }
   },
   "outputs": [],
   "source": [
    "# Write your code here\n"
   ]
  },
  {
   "cell_type": "code",
   "execution_count": null,
   "metadata": {
    "autoscroll": false,
    "collapsed": false,
    "ein.hycell": false,
    "ein.tags": "worksheet-0",
    "slideshow": {
     "slide_type": "-"
    }
   },
   "outputs": [],
   "source": [
    "# %load solutions/import_networkx.py\n"
   ]
  },
  {
   "cell_type": "markdown",
   "metadata": {
    "ein.tags": "worksheet-0",
    "slideshow": {
     "slide_type": "-"
    }
   },
   "source": [
    "There are many ways to feed nodes and edges to a graph.\n",
    "Nodes may be of any type as long as it is [hashable](https://docs.python.org/3/glossary.html) (lists are not allowed since they can be modified by side effects)."
   ]
  },
  {
   "cell_type": "code",
   "execution_count": null,
   "metadata": {
    "autoscroll": false,
    "collapsed": false,
    "ein.hycell": false,
    "ein.tags": "worksheet-0",
    "slideshow": {
     "slide_type": "-"
    }
   },
   "outputs": [],
   "source": [
    "g = nx.Graph()\n",
    "g.add_node(\"spam\")\n",
    "# a node is created if it does not exist when you create an edge\n",
    "g.add_edge(1, 2)\n",
    "\n",
    "g.nodes, g.edges"
   ]
  },
  {
   "cell_type": "markdown",
   "metadata": {
    "ein.tags": "worksheet-0",
    "slideshow": {
     "slide_type": "-"
    }
   },
   "source": [
    "There are several ways to display graphs. You may explore different possibilities in the documentation. We will mostly use the matplotlib output in this notebook. The layout of the graph is done automatically, but you can select another one with the `pos` parameter of `draw_networkx`."
   ]
  },
  {
   "cell_type": "code",
   "execution_count": null,
   "metadata": {
    "autoscroll": false,
    "collapsed": false,
    "ein.hycell": false,
    "ein.tags": "worksheet-0",
    "slideshow": {
     "slide_type": "-"
    }
   },
   "outputs": [],
   "source": [
    "%matplotlib inline\n",
    "import matplotlib.pyplot as plt\n",
    "\n",
    "ax = plt.axes()\n",
    "ax.set_axis_off()\n",
    "ax.set_aspect(1)\n",
    "nx.draw_networkx(g, ax=ax)"
   ]
  },
  {
   "cell_type": "markdown",
   "metadata": {
    "ein.tags": "worksheet-0",
    "slideshow": {
     "slide_type": "-"
    }
   },
   "source": [
    "### Directed graphs, weighted graphs\n",
    "\n",
    "You may create undirected (`Graph`) or directed (`DiGraph`) graphs. For convenience sake, you may feed an adjacency list directly when constructing the graph.\n",
    "\n",
    "For a weighted graph, just add the corresponding parameter to the edge. The bracket notation returns an edge as a dictionary with all the parameters given at creation."
   ]
  },
  {
   "cell_type": "code",
   "execution_count": null,
   "metadata": {
    "autoscroll": false,
    "collapsed": false,
    "ein.hycell": false,
    "ein.tags": "worksheet-0",
    "slideshow": {
     "slide_type": "-"
    }
   },
   "outputs": [],
   "source": [
    "g = nx.DiGraph()\n",
    "\n",
    "# create edges from an iterable\n",
    "g.add_edges_from(\n",
    "    zip([0, 1, 2, 3, 4],\n",
    "        [1, 2, 3, 4, 5]),\n",
    "    # you may add weights to edges just naturally\n",
    "    weight=5,\n",
    ")\n",
    "\n",
    "ax = plt.axes()\n",
    "ax.set_axis_off()\n",
    "ax.set_aspect(1)\n",
    "nx.draw_networkx(g, ax=ax)\n",
    "\n",
    "g[0][1]"
   ]
  },
  {
   "cell_type": "markdown",
   "metadata": {
    "ein.tags": "worksheet-0",
    "slideshow": {
     "slide_type": "-"
    }
   },
   "source": [
    "<div class=\"alert alert-warning\">\n",
    "    <b>Exercice:</b> Create the following graphs with <code>networkx</code>.\n",
    "</div>\n",
    "\n",
    "![graphs](img/graphs.png)"
   ]
  },
  {
   "cell_type": "code",
   "execution_count": null,
   "metadata": {
    "autoscroll": false,
    "collapsed": false,
    "ein.hycell": false,
    "ein.tags": "worksheet-0",
    "slideshow": {
     "slide_type": "-"
    }
   },
   "outputs": [],
   "source": [
    "# Write your code here\n"
   ]
  },
  {
   "cell_type": "code",
   "execution_count": null,
   "metadata": {
    "autoscroll": false,
    "collapsed": false,
    "ein.hycell": false,
    "ein.tags": "worksheet-0",
    "slideshow": {
     "slide_type": "-"
    }
   },
   "outputs": [],
   "source": [
    "# %load solutions/create_graph.py\n"
   ]
  },
  {
   "cell_type": "markdown",
   "metadata": {
    "ein.tags": "worksheet-0",
    "slideshow": {
     "slide_type": "-"
    }
   },
   "source": [
    "Graphs are provided with methods and properties that were defined in class."
   ]
  },
  {
   "cell_type": "code",
   "execution_count": null,
   "metadata": {
    "autoscroll": false,
    "collapsed": false,
    "ein.hycell": false,
    "ein.tags": "worksheet-0",
    "slideshow": {
     "slide_type": "-"
    }
   },
   "outputs": [],
   "source": [
    "# the adjacency list for the graph\n",
    "g.adj"
   ]
  },
  {
   "cell_type": "code",
   "execution_count": null,
   "metadata": {
    "autoscroll": false,
    "collapsed": false,
    "ein.hycell": false,
    "ein.tags": "worksheet-0",
    "slideshow": {
     "slide_type": "-"
    }
   },
   "outputs": [],
   "source": [
    "# the edges leaving from A\n",
    "g['A']"
   ]
  },
  {
   "cell_type": "code",
   "execution_count": null,
   "metadata": {
    "autoscroll": false,
    "collapsed": false,
    "ein.hycell": false,
    "ein.tags": "worksheet-0",
    "slideshow": {
     "slide_type": "-"
    }
   },
   "outputs": [],
   "source": [
    "# the degree of node A\n",
    "g.degree['A']"
   ]
  },
  {
   "cell_type": "code",
   "execution_count": null,
   "metadata": {
    "autoscroll": false,
    "collapsed": false,
    "ein.hycell": false,
    "ein.tags": "worksheet-0",
    "slideshow": {
     "slide_type": "-"
    }
   },
   "outputs": [],
   "source": [
    "g.is_directed()"
   ]
  },
  {
   "cell_type": "code",
   "execution_count": null,
   "metadata": {
    "autoscroll": false,
    "collapsed": false,
    "ein.hycell": false,
    "ein.tags": "worksheet-0",
    "slideshow": {
     "slide_type": "-"
    }
   },
   "outputs": [],
   "source": [
    "# you may create the undirected version of a directed graph\n",
    "g_undirected = g.to_undirected()\n",
    "# and compare the adjacency lists\n",
    "g_undirected.adj"
   ]
  },
  {
   "cell_type": "markdown",
   "metadata": {
    "ein.tags": "worksheet-0",
    "slideshow": {
     "slide_type": "-"
    }
   },
   "source": [
    "## Shortest paths problems\n",
    "\n",
    "The `networkx` library contains many graph algorithms implementations."
   ]
  },
  {
   "cell_type": "code",
   "execution_count": null,
   "metadata": {
    "autoscroll": false,
    "collapsed": false,
    "ein.hycell": false,
    "ein.tags": "worksheet-0",
    "slideshow": {
     "slide_type": "-"
    }
   },
   "outputs": [],
   "source": [
    "import pkgutil\n",
    "list(module for _, module, is_package in pkgutil.iter_modules(nx.algorithms.__path__)\n",
    "     if is_package)"
   ]
  },
  {
   "cell_type": "markdown",
   "metadata": {
    "ein.tags": "worksheet-0",
    "slideshow": {
     "slide_type": "-"
    }
   },
   "source": [
    "### Basic introduction to Dijkstra algorithm\n",
    "\n",
    "We will focus in this session on shortest paths problems. Let us consider the following graph we studied in class."
   ]
  },
  {
   "cell_type": "code",
   "execution_count": null,
   "metadata": {
    "autoscroll": false,
    "collapsed": false,
    "ein.hycell": false,
    "ein.tags": "worksheet-0",
    "slideshow": {
     "slide_type": "-"
    }
   },
   "outputs": [],
   "source": [
    "g = nx.DiGraph()\n",
    "\n",
    "g.add_edge('A', 'B', weight=4)\n",
    "g.add_edge('A', 'C', weight=2)\n",
    "g.add_edge('B', 'C', weight=3)\n",
    "g.add_edge('B', 'D', weight=2)\n",
    "g.add_edge('B', 'E', weight=3)\n",
    "g.add_edge('C', 'D', weight=4)\n",
    "g.add_edge('C', 'E', weight=5)\n",
    "g.add_edge('E', 'D', weight=1)\n",
    "\n",
    "ax = plt.axes()\n",
    "\n",
    "nx.draw_networkx(\n",
    "    g, ax=ax,\n",
    "    pos=nx.shell_layout(g)\n",
    ")\n",
    "nx.draw_networkx_edge_labels(\n",
    "    g, ax=ax, pos=nx.shell_layout(g),\n",
    "    edge_labels=dict(((u, v), g[u][v]['weight'])\n",
    "                     for u, v in g.edges)\n",
    ")\n",
    "\n",
    "ax.set_aspect(1)\n",
    "ax.set_axis_off()\n"
   ]
  },
  {
   "cell_type": "markdown",
   "metadata": {
    "ein.tags": "worksheet-0",
    "slideshow": {
     "slide_type": "-"
    }
   },
   "source": [
    "<div class=\"alert alert-hint\">\n",
    "    <b>Dijkstra algorithm</b>: Time to recall the principle of the algorithm!\n",
    "</div>\n",
    "\n",
    "Dijkstra algorithm is provided in `networkx`; a more advanced interface is also available if we want to unroll the algorithm."
   ]
  },
  {
   "cell_type": "code",
   "execution_count": null,
   "metadata": {
    "autoscroll": false,
    "collapsed": false,
    "ein.hycell": false,
    "ein.tags": "worksheet-0",
    "slideshow": {
     "slide_type": "-"
    }
   },
   "outputs": [],
   "source": [
    "from matplotlib import animation\n",
    "\n",
    "def anim_to_html(anim):\n",
    "    plt.close(anim._fig)\n",
    "    return anim.to_html5_video()\n",
    "\n",
    "animation.Animation._repr_html_ = anim_to_html"
   ]
  },
  {
   "cell_type": "code",
   "execution_count": null,
   "metadata": {
    "autoscroll": false,
    "collapsed": false,
    "ein.hycell": false,
    "ein.tags": "worksheet-0",
    "slideshow": {
     "slide_type": "-"
    }
   },
   "outputs": [],
   "source": [
    "fig, ax = plt.subplots()\n",
    "ax.set_axis_off()\n",
    "ax.set_aspect(1)\n",
    "\n",
    "nx.draw_networkx(\n",
    "    g, ax=ax,\n",
    "    pos=nx.shell_layout(g)\n",
    ")\n",
    "\n",
    "def animate(i):\n",
    "\n",
    "    predecessors, _ = nx.shortest_paths.dijkstra_predecessor_and_distance(g, 'A', i)\n",
    "    nx.draw_networkx_edges(\n",
    "        g, ax=ax, pos=nx.shell_layout(g),\n",
    "        edgelist=[(succ, pred)\n",
    "                  for pred in predecessors.keys()\n",
    "                  for succ in predecessors[pred]],\n",
    "        edge_color='crimson',\n",
    "        width=2\n",
    "    )\n",
    "    nx.draw_networkx_edge_labels(\n",
    "        g, ax=ax, pos=nx.shell_layout(g),\n",
    "        edge_labels=dict(((u, v), g[u][v]['weight'])\n",
    "                         for u, v in g.edges)\n",
    "    )\n",
    "    return []\n",
    "\n",
    "animation.FuncAnimation(fig, animate, frames=15,\n",
    "                        interval=750, blit=True)\n"
   ]
  },
  {
   "cell_type": "markdown",
   "metadata": {
    "ein.tags": "worksheet-0",
    "slideshow": {
     "slide_type": "-"
    }
   },
   "source": [
    "### A study case on the subway path finding problem\n",
    "\n",
    "In this study case, we will be using the [RATP Open Data](https://data.ratp.fr/explore/dataset/offre-transport-de-la-ratp-format-gtfs/) service. You will find in the `data/` directory the `RATP_GTFS_LINES.zip` archive which can be found on the website.\n",
    "\n",
    "The [GTFS format](https://en.wikipedia.org/wiki/General_Transit_Feed_Specification) is a format to communicate about transport services. The following script parses the archive and creates four dictionaries:\n",
    "\n",
    " - `stations` contains information about the stations (id, name, lat/lon positions);\n",
    " - `stop_times` contains train schedules for each station (stop_id, trip_id, arrival_time);\n",
    " - `trips` contains a one-to-n relationship between trips and routes (one trip_id per day, several trip_id for one route_id);\n",
    " - `transfers` contains minimum transfer times (walking time) from one station to another (more precisely)\n",
    "\n",
    "Please note:\n",
    "\n",
    " - all dictionaries are indexed by the name of the line (`METRO_13`, `RER_B`);\n",
    " - the same station **may have several stop_id and several lat/lon coordinates**. The stop_id is associated to a subway platform rather than to a station building;\n",
    " - bus lines have been ignored in order to keep a map readable but the archive contains all you need to build your own pathfinding app with the full network information (you may want to also include [this](https://ressources.data.sncf.com/explore/dataset/sncf-transilien-gtfs/information/) or [this](https://data.toulouse-metropole.fr/explore/dataset/tisseo-gtfs/table/) information);\n",
    " - we use a [Lambert 93](https://fr.wikipedia.org/wiki/Projection_conique_conforme_de_Lambert#Projections_officielles_en_France_m%C3%A9tropolitaine) projection to convert lat/lon to x-y coordinates;\n",
    " - **you may use euclidean distance on x-y coordinates**.\n",
    "\n",
    "<div class=\"alert alert-danger\">\n",
    "    <b>Warning:</b> The following looks long but all the work has been done for you. The real work starts after the first map of the subway network.\n",
    "</div>"
   ]
  },
  {
   "cell_type": "code",
   "execution_count": null,
   "metadata": {
    "autoscroll": false,
    "collapsed": false,
    "ein.hycell": false,
    "ein.tags": "worksheet-0",
    "slideshow": {
     "slide_type": "-"
    }
   },
   "outputs": [],
   "source": [
    "# This contains many useful functions you don't need to waste time on\n",
    "# (but you may have a look if you are curious...)\n",
    "\n",
    "%run shortest_paths.py"
   ]
  },
  {
   "cell_type": "markdown",
   "metadata": {
    "ein.tags": "worksheet-0",
    "slideshow": {
     "slide_type": "-"
    }
   },
   "source": [
    "You may explore the four tables for metro line 1 as follows:"
   ]
  },
  {
   "cell_type": "code",
   "execution_count": null,
   "metadata": {
    "autoscroll": false,
    "collapsed": false,
    "ein.hycell": false,
    "ein.tags": "worksheet-0",
    "slideshow": {
     "slide_type": "-"
    }
   },
   "outputs": [],
   "source": [
    "from IPython.display import display, HTML\n",
    "\n",
    "display(HTML(\"<h4>Stations on METRO_1</h4>\"))\n",
    "display(stations['METRO_1'].head())\n",
    "\n",
    "display(HTML(\"<h4>Stop times on METRO_1</h4>\"))\n",
    "display(stop_times['METRO_1'].head())\n",
    "\n",
    "display(HTML(\"<h4>Trips on METRO_1</h4>\"))\n",
    "display(trips['METRO_1'].head())\n",
    "\n",
    "display(HTML(\"<h4>Transfer times on METRO_1</h4>\"))\n",
    "display(transfers['METRO_1'].head())"
   ]
  },
  {
   "cell_type": "markdown",
   "metadata": {
    "ein.tags": "worksheet-0",
    "slideshow": {
     "slide_type": "-"
    }
   },
   "source": [
    "> Just for fun, before we get back to work, see how we can use the power of pandas data frames in order to get all the mission codes associated to RER B.\n",
    "The first letter of the mission code is associated to the terminus station of the train\n",
    "(*but this is useless for us now so **you may forget it** unless you are a nerd with transportation networks*)"
   ]
  },
  {
   "cell_type": "code",
   "execution_count": null,
   "metadata": {
    "autoscroll": false,
    "collapsed": false,
    "ein.hycell": false,
    "ein.tags": "worksheet-0",
    "slideshow": {
     "slide_type": "-"
    }
   },
   "outputs": [],
   "source": [
    "index = 'RER_B'\n",
    "\n",
    "(trips[index]\n",
    " # keep only one trip_id\n",
    " .drop_duplicates('trip_headsign')\n",
    " # get all station_id associated to a trip_id\n",
    " .merge(stop_times[index])\n",
    " # get the station names associated to the station_id\n",
    " .merge(stations[index])\n",
    " # be sure all stops come in order\n",
    " .sort_values('stop_sequence')\n",
    " # for each mission code\n",
    " .groupby('trip_headsign')\n",
    " # only keep the last station name on the route.\n",
    " [['stop_name']].last()\n",
    " # Reverse the table and\n",
    " .reset_index()\n",
    " # for each last station\n",
    " .groupby('stop_name')\n",
    " # put all mission codes into one string\n",
    " .apply(lambda df: \", \".join(df.trip_headsign))\n",
    " # finally, export to a Python dictionary to make it more readable\n",
    " .to_dict())"
   ]
  },
  {
   "cell_type": "markdown",
   "metadata": {
    "ein.tags": "worksheet-0",
    "slideshow": {
     "slide_type": "-"
    }
   },
   "source": [
    "#### Data exploration\n",
    "\n",
    "In order to get a better grasp on the data, let's look at line `METRO_13`:\n",
    "\n",
    " - the two direction ids;\n",
    " - the four different route_id because of the two branches to the North;\n",
    " - all stations in order for one trip_id."
   ]
  },
  {
   "cell_type": "code",
   "execution_count": null,
   "metadata": {
    "autoscroll": false,
    "collapsed": false,
    "ein.hycell": false,
    "ein.tags": "worksheet-0",
    "slideshow": {
     "slide_type": "-"
    }
   },
   "outputs": [],
   "source": [
    "trips['METRO_13'].drop_duplicates('trip_headsign')"
   ]
  },
  {
   "cell_type": "code",
   "execution_count": null,
   "metadata": {
    "autoscroll": false,
    "collapsed": false,
    "ein.hycell": false,
    "ein.tags": "worksheet-0",
    "slideshow": {
     "slide_type": "-"
    }
   },
   "outputs": [],
   "source": [
    "index = 'METRO_13'\n",
    "\n",
    "(trips[index]\n",
    " # keep only one trip_id\n",
    " .head(1)\n",
    " # get all station_id associated to a trip_id\n",
    " .merge(stop_times[index])\n",
    " # get the station names associated to the station_id\n",
    " .merge(stations[index])\n",
    " # be sure all stops come in order\n",
    " .sort_values('stop_sequence')\n",
    " # filter information\n",
    " [['stop_id', 'stop_name', 'departure_time']]\n",
    ")"
   ]
  },
  {
   "cell_type": "code",
   "execution_count": null,
   "metadata": {
    "autoscroll": false,
    "collapsed": false,
    "ein.hycell": false,
    "ein.tags": "worksheet-0",
    "slideshow": {
     "slide_type": "-"
    }
   },
   "outputs": [],
   "source": [
    "all_stations[['stop_name', 'line']].query(\"stop_name == 'Saint-Lazare'\")"
   ]
  },
  {
   "cell_type": "markdown",
   "metadata": {
    "ein.tags": "worksheet-0",
    "slideshow": {
     "slide_type": "-"
    }
   },
   "source": [
    "Since we don't want to play with `stop_id`, things can get complicated with capital letters, accentuated letters, hyphens and typos (don't get me started!), we provide a fuzzy search method.\n",
    "\n",
    "`.` is a wildcard character, and you may need `$` to mark the end of the string.\n",
    "\n",
    "Also, the variable `pos` contains all x-y coordinates for each station_id. Remember you may use euclidean distances."
   ]
  },
  {
   "cell_type": "code",
   "execution_count": null,
   "metadata": {
    "autoscroll": false,
    "collapsed": false,
    "ein.hycell": false,
    "ein.tags": "worksheet-0",
    "slideshow": {
     "slide_type": "-"
    }
   },
   "outputs": [],
   "source": [
    "search_station('Saint.Laz')"
   ]
  },
  {
   "cell_type": "code",
   "execution_count": null,
   "metadata": {
    "autoscroll": false,
    "collapsed": false,
    "ein.hycell": false,
    "ein.tags": "worksheet-0",
    "slideshow": {
     "slide_type": "-"
    }
   },
   "outputs": [],
   "source": [
    "{ # Nation also matches \"Nationale\"\n",
    "    key: value\n",
    "    for key, value in search_station('Nation').items()\n",
    "    if value != 'Nation'\n",
    "}"
   ]
  },
  {
   "cell_type": "code",
   "execution_count": null,
   "metadata": {
    "autoscroll": false,
    "collapsed": false,
    "ein.hycell": false,
    "ein.tags": "worksheet-0",
    "slideshow": {
     "slide_type": "-"
    }
   },
   "outputs": [],
   "source": [
    "# Use the wildcard\n",
    "search_station('Nation$')"
   ]
  },
  {
   "cell_type": "code",
   "execution_count": null,
   "metadata": {
    "autoscroll": false,
    "collapsed": false,
    "ein.hycell": false,
    "ein.tags": "worksheet-0",
    "slideshow": {
     "slide_type": "-"
    }
   },
   "outputs": [],
   "source": [
    "import numpy as np\n",
    "\n",
    "i1, n1 = search_station('Nation$').popitem()\n",
    "x1, y1 = pos[i1]\n",
    "i2, n2 = search_station('Saint-Laz').popitem()\n",
    "x2, y2 = pos[i2]\n",
    "\n",
    "# in meters\n",
    "d = np.sqrt((x2 - x1)**2 + (y2 - y1)**2)\n",
    "\n",
    "print(f\"Distance between {n1} and {n2}: {d/1000:.2f} km\")"
   ]
  },
  {
   "cell_type": "markdown",
   "metadata": {
    "ein.tags": "worksheet-0",
    "slideshow": {
     "slide_type": "-"
    }
   },
   "source": [
    "#### Basic graph of the network\n",
    "\n",
    "Now, we got all we need to build a first basic graph of the network.\n",
    "\n",
    "You will need to fill the graph with more information later so **take the time to understand what happens here**:"
   ]
  },
  {
   "cell_type": "code",
   "execution_count": null,
   "metadata": {
    "autoscroll": false,
    "collapsed": false,
    "ein.hycell": false,
    "ein.tags": "worksheet-0",
    "slideshow": {
     "slide_type": "-"
    }
   },
   "outputs": [],
   "source": [
    "g = nx.DiGraph()\n",
    "\n",
    "# for each subway line\n",
    "for line_nb, trip in trips.items():\n",
    "\n",
    "    # for each different trip\n",
    "    for trip_id in trip.drop_duplicates('route_id').trip_id:\n",
    "\n",
    "        # Note:\n",
    "        #   - we should use \"trip_headsign\" rather than \"route_id\"\n",
    "        #     but the map gets confusing outside Paris\n",
    "        #   - inside Paris, the graph we build here is still correct\n",
    "\n",
    "        sequence = list(\n",
    "            # get the list of stop_id in orders\n",
    "            stop_times[line_nb]\n",
    "            .query(f'trip_id == {trip_id}')\n",
    "            .sort_values('stop_sequence')\n",
    "            .stop_id\n",
    "        )\n",
    "\n",
    "        for first, second in zip(sequence[:-1], sequence[1:]):\n",
    "            g.add_edge(\n",
    "                first, second,\n",
    "                # we store 'RER' or 'METRO' for printing it differently\n",
    "                type=line_nb.split('_')[0],\n",
    "                # line_colors is provided as is\n",
    "                color=line_colors[line_nb]\n",
    "            )\n",
    "\n",
    "# for each subway line\n",
    "for line_nb, transfer in transfers.items():\n",
    "\n",
    "    # parse the lines of the table in order\n",
    "    for _, line in transfer.iterrows():\n",
    "\n",
    "        first, second = line.from_stop_id, line.to_stop_id\n",
    "\n",
    "        # add an edge for each connection if both nodes already exists in the graph\n",
    "        # (remember there are a lot of bus stations we chose to ignore)\n",
    "        if first in g.nodes and second in g.nodes:\n",
    "            g.add_edge(\n",
    "                first, second,\n",
    "                type='CONNECTION',\n",
    "                duration=line.min_transfer_time,\n",
    "                color='#aaaaaa'\n",
    "            )\n",
    "            g.add_edge(\n",
    "                second, first,\n",
    "                type='CONNECTION',\n",
    "                duration=line.min_transfer_time,\n",
    "                color='#aaaaaa'\n",
    "            )\n"
   ]
  },
  {
   "cell_type": "code",
   "execution_count": null,
   "metadata": {
    "autoscroll": false,
    "collapsed": false,
    "ein.hycell": false,
    "ein.tags": "worksheet-0",
    "slideshow": {
     "slide_type": "-"
    }
   },
   "outputs": [],
   "source": [
    "fig, ax = plt.subplots(\n",
    "    1, 1, figsize=(10, 10),\n",
    ")\n",
    "\n",
    "# This function is provided together with the graph\n",
    "plot_ratp(ax, g)"
   ]
  },
  {
   "cell_type": "markdown",
   "metadata": {
    "ein.tags": "worksheet-0",
    "slideshow": {
     "slide_type": "-"
    }
   },
   "source": [
    "#### Exercices\n",
    "\n",
    "- Find the shortest path (Dijkstra) between Félix Faure and Robespierre:\n",
    "\n",
    "    - with an unweighted graph (all edges and all connections count for 1);\n",
    "    - with a weighted graph (add the distance information).\n",
    "\n",
    "\n",
    "- Use the A* algorithm to find the shortest path between Félix Faure and Robespierre.\n",
    "  Read the documentation to find how to implement your heuristic.\n",
    "\n",
    "- Is A* algorithm faster than Dijkstra algorithm here?\n",
    "\n",
    "- Find the fastest path between Félix Faure and Robespierre. Can we use A* here?\n",
    "\n",
    "  Keep the heuristic for distances and use A* algorithm anyway. Analyse the result.\n",
    "\n",
    "- How would you compute the fastest path between Félix Faure and Robespierre considering you want to leave \"now\"?\n",
    "  The issue here is to take the waiting time into account."
   ]
  },
  {
   "cell_type": "code",
   "execution_count": null,
   "metadata": {
    "autoscroll": false,
    "collapsed": false,
    "ein.hycell": false,
    "ein.tags": "worksheet-0",
    "slideshow": {
     "slide_type": "-"
    }
   },
   "outputs": [],
   "source": [
    "# Write your code for shortest path here\n",
    "def shortest_path(g, source, target, method, **kwargs):\n"
   ]
  },
  {
   "cell_type": "code",
   "execution_count": null,
   "metadata": {
    "autoscroll": false,
    "collapsed": false,
    "ein.hycell": false,
    "ein.tags": "worksheet-0",
    "slideshow": {
     "slide_type": "-"
    }
   },
   "outputs": [],
   "source": [
    "# %load solutions/shortest_path.py\n"
   ]
  },
  {
   "cell_type": "code",
   "execution_count": null,
   "metadata": {
    "autoscroll": false,
    "collapsed": false,
    "ein.hycell": false,
    "ein.tags": "worksheet-0",
    "slideshow": {
     "slide_type": "-"
    }
   },
   "outputs": [],
   "source": [
    "\n",
    "fig, ax = plt.subplots(1, 1, figsize=(10, 10))\n",
    "\n",
    "plot_ratp(ax, g, color='lightgrey')\n",
    "\n",
    "plot_path(\n",
    "    ax, g, shortest_path(\n",
    "        g, 'Félix Faure', 'Robespierre',\n",
    "        nx.shortest_paths.dijkstra_path\n",
    "    )\n",
    ")\n"
   ]
  },
  {
   "cell_type": "code",
   "execution_count": null,
   "metadata": {
    "autoscroll": false,
    "collapsed": false,
    "ein.hycell": false,
    "ein.tags": "worksheet-0",
    "slideshow": {
     "slide_type": "-"
    }
   },
   "outputs": [],
   "source": [
    "# Write your code for A* here\n"
   ]
  },
  {
   "cell_type": "code",
   "execution_count": null,
   "metadata": {
    "autoscroll": false,
    "collapsed": false,
    "ein.hycell": false,
    "ein.tags": "worksheet-0",
    "slideshow": {
     "slide_type": "-"
    }
   },
   "outputs": [],
   "source": [
    "# %load solutions/ratp_distance.py\n"
   ]
  },
  {
   "cell_type": "code",
   "execution_count": null,
   "metadata": {
    "autoscroll": false,
    "collapsed": false,
    "ein.hycell": false,
    "ein.tags": "worksheet-0",
    "slideshow": {
     "slide_type": "-"
    }
   },
   "outputs": [],
   "source": [
    "fig, ax = plt.subplots(1, 1, figsize=(10, 10))\n",
    "\n",
    "plot_ratp(ax, g, color='lightgrey')\n",
    "plot_path(\n",
    "    ax, g, shortest_path(\n",
    "        g, 'Félix Faure', 'Robespierre',\n",
    "        nx.shortest_paths.dijkstra_path,\n",
    "        weight='distance'\n",
    "    )\n",
    ")"
   ]
  },
  {
   "cell_type": "code",
   "execution_count": null,
   "metadata": {
    "autoscroll": false,
    "collapsed": false,
    "ein.hycell": false,
    "ein.tags": "worksheet-0",
    "slideshow": {
     "slide_type": "-"
    }
   },
   "outputs": [],
   "source": [
    "%%timeit\n",
    "shortest_path(\n",
    "    g, 'Félix Faure', 'Robespierre',\n",
    "    nx.shortest_paths.dijkstra_path,\n",
    "    weight='distance'\n",
    ")"
   ]
  },
  {
   "cell_type": "code",
   "execution_count": null,
   "metadata": {
    "autoscroll": false,
    "collapsed": false,
    "ein.hycell": false,
    "ein.tags": "worksheet-0",
    "slideshow": {
     "slide_type": "-"
    }
   },
   "outputs": [],
   "source": [
    "%%timeit\n",
    "shortest_path(\n",
    "    g, 'Félix Faure', 'Robespierre',\n",
    "    nx.shortest_paths.astar_path,\n",
    "    weight='distance',\n",
    "    heuristic=distance\n",
    ")"
   ]
  },
  {
   "cell_type": "code",
   "execution_count": null,
   "metadata": {
    "autoscroll": false,
    "collapsed": false,
    "ein.hycell": false,
    "ein.tags": "worksheet-0",
    "slideshow": {
     "slide_type": "-"
    }
   },
   "outputs": [],
   "source": []
  },
  {
   "cell_type": "code",
   "execution_count": null,
   "metadata": {
    "autoscroll": false,
    "collapsed": false,
    "ein.hycell": false,
    "ein.tags": "worksheet-0",
    "slideshow": {
     "slide_type": "-"
    }
   },
   "outputs": [],
   "source": [
    "astar = shortest_path(\n",
    "    g, 'Félix Faure', 'Robespierre',\n",
    "    nx.shortest_paths.astar_path,\n",
    "    weight='distance',\n",
    "    heuristic=distance,\n",
    ")\n",
    "\n",
    "dijkstra = shortest_path(\n",
    "    g, 'Félix Faure', 'Robespierre',\n",
    "    # A* without heuristic is equivalent to Dijkstra\n",
    "    nx.shortest_paths.astar_path,\n",
    "    weight='distance',\n",
    ")\n",
    "\n",
    "# of course the result is the same!\n",
    "astar['weight'], dijkstra['weight']"
   ]
  },
  {
   "cell_type": "code",
   "execution_count": null,
   "metadata": {
    "autoscroll": false,
    "collapsed": false,
    "ein.hycell": false,
    "ein.tags": "worksheet-0",
    "slideshow": {
     "slide_type": "-"
    }
   },
   "outputs": [],
   "source": [
    "# number of nodes explored\n",
    "astar['counter'], dijkstra['counter']"
   ]
  },
  {
   "cell_type": "code",
   "execution_count": null,
   "metadata": {
    "autoscroll": false,
    "collapsed": false,
    "ein.hycell": false,
    "ein.tags": "worksheet-0",
    "slideshow": {
     "slide_type": "-"
    }
   },
   "outputs": [],
   "source": [
    "fig, (ax1, ax2) = plt.subplots(1, 2, figsize=(10, 5))\n",
    "\n",
    "plot_ratp(ax1, g, color='lightgrey')\n",
    "plot_ratp(ax2, g, color='lightgrey')\n",
    "\n",
    "ax1.set_title(\"Dijkstra algorithm\", fontsize=15)\n",
    "ax2.set_title(\"A* algorithm\", fontsize=15)\n",
    "\n",
    "def animate():\n",
    "    dijkstra_animate = animate_path(ax1, dijkstra)\n",
    "    astar_animate = animate_path(ax2, astar)\n",
    "\n",
    "    def animate_both(i):\n",
    "        return dijkstra_animate(i) + astar_animate(i)\n",
    "\n",
    "    return animate_both\n",
    "\n",
    "animation.FuncAnimation(\n",
    "    fig, animate(),\n",
    "    frames=150, interval=100, blit=True\n",
    ")"
   ]
  },
  {
   "cell_type": "code",
   "execution_count": null,
   "metadata": {
    "autoscroll": false,
    "collapsed": false,
    "ein.hycell": false,
    "ein.tags": "worksheet-0",
    "slideshow": {
     "slide_type": "-"
    }
   },
   "outputs": [],
   "source": [
    "# %load solutions/ratp_duration.py\n"
   ]
  },
  {
   "cell_type": "code",
   "execution_count": null,
   "metadata": {
    "autoscroll": false,
    "collapsed": false,
    "ein.hycell": false,
    "ein.tags": "worksheet-0",
    "slideshow": {
     "slide_type": "-"
    }
   },
   "outputs": [],
   "source": [
    "dijkstra = shortest_path(\n",
    "    g, 'Félix Faure', 'Robespierre',\n",
    "    nx.shortest_paths.dijkstra_path,\n",
    "    weight='duration'\n",
    ")\n",
    "\n",
    "astar = shortest_path(\n",
    "    g, 'Félix Faure', 'Robespierre',\n",
    "    nx.shortest_paths.astar_path,\n",
    "    weight='duration',\n",
    "    heuristic=distance\n",
    ")\n",
    "\n",
    "# With a wrong heuristic, A* gives nonsense\n",
    "astar['weight'], dijkstra['weight']"
   ]
  },
  {
   "cell_type": "code",
   "execution_count": null,
   "metadata": {
    "autoscroll": false,
    "collapsed": false,
    "ein.hycell": false,
    "ein.tags": "worksheet-0",
    "slideshow": {
     "slide_type": "-"
    }
   },
   "outputs": [],
   "source": [
    "fig, ax = plt.subplots(1, 1, figsize=(10, 10))\n",
    "\n",
    "plot_ratp(ax, g, color='lightgrey')\n",
    "plot_path(ax, g, dijkstra)"
   ]
  },
  {
   "cell_type": "code",
   "execution_count": null,
   "metadata": {
    "autoscroll": false,
    "collapsed": false,
    "ein.hycell": false,
    "ein.tags": "worksheet-0",
    "slideshow": {
     "slide_type": "-"
    }
   },
   "outputs": [],
   "source": [
    "fig, ax = plt.subplots(1, 1, figsize=(10, 10))\n",
    "\n",
    "plot_ratp(ax, g, color='lightgrey')\n",
    "plot_path(ax, g, astar)"
   ]
  },
  {
   "cell_type": "code",
   "execution_count": null,
   "metadata": {
    "autoscroll": false,
    "collapsed": false,
    "ein.hycell": false,
    "ein.tags": "worksheet-0",
    "slideshow": {
     "slide_type": "-"
    }
   },
   "outputs": [],
   "source": []
  }
 ],
 "metadata": {
  "kernelspec": {
   "display_name": "Python 3",
   "name": "python3"
  },
  "language_info": {
   "codemirror_mode": {
    "name": "ipython",
    "version": 3
   },
   "file_extension": ".py",
   "mimetype": "text/x-python",
   "name": "python",
   "nbconvert_exporter": "python",
   "pygments_lexer": "ipython3",
   "version": "3.6.0"
  },
  "name": "shortest_paths.ipynb"
 },
 "nbformat": 4,
 "nbformat_minor": 2
}
